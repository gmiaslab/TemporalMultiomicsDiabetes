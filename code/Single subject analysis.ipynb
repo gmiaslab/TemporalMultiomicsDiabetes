{
 "cells": [
  {
   "cell_type": "code",
   "execution_count": 1,
   "metadata": {},
   "outputs": [
    {
     "name": "stdout",
     "output_type": "stream",
     "text": [
      "Loading PyIOmica 1.3.3 (https://github.com/gmiaslab/pyiomica by G. Mias Lab)\n"
     ]
    }
   ],
   "source": [
    "import os\n",
    "from copy import deepcopy\n",
    "from itertools import chain\n",
    "from collections import Counter\n",
    "\n",
    "\n",
    "\n",
    "import pandas as pd\n",
    "import numpy as np\n",
    "import matplotlib.pyplot as plt \n",
    "import seaborn as sns\n",
    "\n",
    "import pyiomica as pio\n",
    "from pyiomica import categorizationFunctions as cf\n",
    "from pyiomica import frequencySubjectMatch as fs\n",
    "from pyiomica.extendedDataFrame import DataFrame\n",
    "from pyiomica.enrichmentAnalyses import ReactomeAnalysis, ExportReactomeEnrichmentReport\n",
    "%matplotlib inline\n",
    "\n"
   ]
  },
  {
   "cell_type": "code",
   "execution_count": 2,
   "metadata": {},
   "outputs": [],
   "source": [
    "### function to check if a folder exists, if not, create it\n",
    "def initial_folder(folder):\n",
    "    CHECK_FOLDER = os.path.isdir(folder)\n",
    "# If folder doesn't exist, then create it.\n",
    "    if not CHECK_FOLDER:\n",
    "        os.makedirs(folder)\n",
    "    return str(folder)"
   ]
  },
  {
   "cell_type": "code",
   "execution_count": 3,
   "metadata": {},
   "outputs": [],
   "source": [
    "### initial folders\n",
    "resultDir = initial_folder('../results/')\n",
    "singleSubDir = initial_folder(resultDir + 'singleSubDir/')\n",
    "reactDir = initial_folder(singleSubDir + 'reactome/')\n",
    "frequencyDataDir = initial_folder(resultDir + 'frequencyDataframe/')\n",
    "datadir = '../data/'\n",
    "\n",
    "#data files\n",
    "file1 = 'clinical_tests.txt'\n",
    "file2 = 'cytokine_abundance.txt'\n",
    "file3 = 'gut_16s_abundance.txt'\n",
    "file4 = 'Lipidomics.csv'\n",
    "file5 = 'Metabolomics.csv'\n",
    "file6 = 'nares_16s_abundance.txt'\n",
    "file7 = 'Proteomics.csv'\n",
    "file8 = 'RNAseq_abundance.txt'\n",
    "file9 = 'Transcriptomics_VST_excl_3participants.csv'\n",
    "\n",
    "file_sameple = 'SampleInfo.csv'  ### the samples' information\n",
    "file_subject = 'SubjectClass.csv'  ### the subjects diabetic class"
   ]
  },
  {
   "cell_type": "code",
   "execution_count": null,
   "metadata": {},
   "outputs": [],
   "source": [
    "### import datasets\n",
    "df_clinical = pd.read_csv(datadir+file1,sep='\\t')\n",
    "df_clinical.drop(['SubjectID','CollectionDate','CL1','CL2','CL3','CL4'], 1,inplace=True)\n",
    "df_clinical.columns = [str(col) + '+clinical' for col in df_clinical.columns]\n",
    "df_clinical.rename(columns={'VisitID+clinical': 'SampleID'}, inplace=True)\n",
    "\n",
    "df_cytokine = pd.read_csv(datadir+file2,sep='\\t')\n",
    "df_cytokine.columns = [str(col) + '+cytokine' for col in df_cytokine.columns]\n",
    "df_cytokine.rename(columns={'SampleID+cytokine': 'SampleID'}, inplace=True)\n",
    "\n",
    "df_gut = pd.read_csv(datadir+file3,sep='\\t')\n",
    "df_gut.columns = [str(col) + '+gut' for col in df_gut.columns]\n",
    "df_gut.rename(columns={'SampleID+gut': 'SampleID'}, inplace=True)\n",
    "\n",
    "df_Lipidomics = pd.read_csv(datadir+file4)\n",
    "df_Lipidomics.columns = [str(col) + '+Lipidomics' for col in df_Lipidomics.columns]\n",
    "df_Lipidomics.rename(columns={'Sample_ID+Lipidomics': 'SampleID'}, inplace=True)\n",
    "\n",
    "df_Metabolomics = pd.read_csv(datadir+file5)\n",
    "df_Metabolomics.columns = [str(col) + '+Metabolomics' for col in df_Metabolomics.columns]\n",
    "df_Metabolomics.rename(columns={'Unnamed: 0+Metabolomics': 'SampleID'}, inplace=True)\n",
    "\n",
    "df_nares = pd.read_csv(datadir+file6,sep='\\t')\n",
    "df_nares.columns = [str(col) + '+nares' for col in df_nares.columns]\n",
    "df_nares.rename(columns={'HostSampleID+nares': 'SampleID'}, inplace=True)\n",
    "\n",
    "\n",
    "df_Proteomics = pd.read_csv(datadir+file7)\n",
    "df_Proteomics.columns = [str(col) + '+Proteomics' for col in df_Proteomics.columns]\n",
    "df_Proteomics.rename(columns={'Unnamed: 0+Proteomics': 'SampleID'}, inplace=True)\n",
    "\n",
    "df_RNAseq = pd.read_csv(datadir+file8,sep='\\t')\n",
    "df_RNAseq.columns = [str(col) + '+RNAseq' for col in df_RNAseq.columns]\n",
    "df_RNAseq.rename(columns={'SampleID+RNAseq': 'SampleID'}, inplace=True)\n",
    "\n",
    "df_Transcriptomics = pd.read_csv(datadir+file9)\n",
    "df_Transcriptomics.columns = [str(col) + '+Transcriptomics' for col in df_Transcriptomics.columns]\n",
    "df_Transcriptomics.rename(columns={'Sample_ID+Transcriptomics': 'SampleID'}, inplace=True)\n",
    "\n",
    "df_sample = pd.read_csv(datadir+file_sameple)\n",
    "df_subject = pd.read_csv(datadir+file_subject)"
   ]
  },
  {
   "cell_type": "code",
   "execution_count": null,
   "metadata": {},
   "outputs": [],
   "source": [
    "### create samples' time index\n",
    "\n",
    "TimeOrder = pd.merge(df_sample, df_subject, how='outer', on=['SubjectID'])\n",
    "TimeOrder['SubjectID'] = TimeOrder['SubjectID'] + '_' + TimeOrder['Class'].astype(str)\n",
    "TimeOrder.drop(['Class'],1, inplace=True)\n",
    "TimeOrder.rename(columns={'Days_Since_Start': 'CollectionDate'}, inplace=True)\n",
    "TimeOrder.dropna(how='any',inplace = True)\n",
    "TimeOrder = TimeOrder.astype({\"CollectionDate\": int})\n",
    "\n",
    "TimeOrder_filter = TimeOrder.groupby('SubjectID').filter(lambda x: (len(x) > 4) & (len(x)<100) )"
   ]
  },
  {
   "cell_type": "code",
   "execution_count": 6,
   "metadata": {},
   "outputs": [],
   "source": [
    "### create dataframe list\n",
    "pdList = [df_clinical,df_cytokine,df_gut,df_Lipidomics,df_Metabolomics,\n",
    "          df_nares,df_Proteomics,df_RNAseq,df_Transcriptomics]\n",
    "\n",
    "dataSetList = ['clinical','cytokine','gut','Lipidomics','Metabolomics',\n",
    "               'nares','Proteomics','RNAseq','Transcriptomics']"
   ]
  },
  {
   "cell_type": "code",
   "execution_count": 7,
   "metadata": {},
   "outputs": [],
   "source": [
    "### function to add time index to dataframe\n",
    "def add_time_order(dataframe):\n",
    "    '''\n",
    "    Add time frame to data\n",
    "\n",
    "    '''\n",
    "    df = pd.merge(TimeOrder, dataframe, how='outer', on=['SampleID'])\n",
    "    df.dropna(subset=list(df.columns)[3:],how='all',inplace=True)\n",
    "    df.dropna(subset=['CollectionDate'],inplace=True)\n",
    "    df = df.astype({\"CollectionDate\": int})\n",
    "    return df "
   ]
  },
  {
   "cell_type": "code",
   "execution_count": 8,
   "metadata": {},
   "outputs": [],
   "source": [
    "#combine datasets\n",
    "index = [0,1,2,3,4,5,6,7,8]\n",
    "dataSetList_dense = [dataSetList[i] for i in index]\n",
    "DF_dense = [pdList[i] for i in index]\n",
    "labelList = {}\n",
    "for i, df in enumerate(DF_dense):\n",
    "    labelList[dataSetList_dense[i]] = list(df.columns.values)\n",
    "    \n",
    "df_all = DF_dense[0]\n",
    "df_tem = DF_dense[1:]\n",
    "for df in df_tem:\n",
    "    df_all = pd.merge(df_all, df, how='outer', on=['SampleID'])"
   ]
  },
  {
   "cell_type": "code",
   "execution_count": 9,
   "metadata": {},
   "outputs": [],
   "source": [
    "### add time points to combined dataframe\n",
    "df_All_timeOrder = add_time_order(df_all)\n",
    "\n",
    "### group datafram by the subjects\n",
    "group_df_All = df_All_timeOrder.groupby(['SubjectID'])"
   ]
  },
  {
   "cell_type": "code",
   "execution_count": null,
   "metadata": {},
   "outputs": [],
   "source": [
    "### seperate subject's dataframe, each subject's omics categorized by pyiomica\n",
    "### ******* High time cost step, it may take 1~ 2 hours ******** ###\n",
    "\n",
    "All_omics = pd.DataFrame(columns = ['id'])  #save all omics IDs\n",
    "sub_cols = {}                               # save each subject's time points\n",
    "time_range = []                             # save each subject's time range\n",
    "filter_subjects = []                        # save the filtered subjects IDs \n",
    "\n",
    "for id in group_df_All.groups.keys():\n",
    "\n",
    "    data = deepcopy(group_df_All.get_group(id))\n",
    "    data.sort_values(by=['CollectionDate'],inplace=True)\n",
    "    \n",
    "    ### clean data\n",
    "    data.drop(['SubjectID','SampleID','CL4'], 1,inplace=True)\n",
    "    data.set_index('CollectionDate',inplace=True)\n",
    "    data = data.T \n",
    "    data = data.dropna(how='all')\n",
    "    \n",
    "    ### data type to numberic\n",
    "    for columnID in range(data.shape[1]):\n",
    "        data.iloc[:,columnID] = pd.to_numeric(data.iloc[:,columnID], errors='coerce')\n",
    "        \n",
    "    data = data.reset_index()\n",
    "    data.rename(columns={'index':'id'},inplace=True)\n",
    "    data = data.loc[:,~data.columns.duplicated()]\n",
    "    data_backup = data\n",
    "    \n",
    "    if data.shape[1]-1 < 100 and data.shape[1]-1 > 4:   ### filter subjects, less than 100 and more than 4 time points\n",
    "        data = data[data.count(axis=1) >=4]             ### filter omics, no less 4 non-NA values  \n",
    "        if data.shape[0]>500:                          ### filter subjects, more than 500 omics record\n",
    "            data = data.set_index('id')\n",
    "            data = data.astype('float')\n",
    "\n",
    "            ### remove the first column if it has more than 25% missing data\n",
    "            while data.iloc[:, 0].isna().sum()/data.shape[0] > 0.25:\n",
    "                data = data.drop(data.columns[0], axis=1)\n",
    "                \n",
    "            All_omics = All_omics.append(pd.DataFrame(data.index))\n",
    "            time_range.append(data.columns[-1] - data.columns[0])\n",
    "            sub_cols[id]  =  np.array(data.columns,dtype=float)\n",
    "            filter_subjects.append(id)\n",
    "            \n",
    "            ### transform dataframe to pyiomica extend dataframe, then normalize it\n",
    "            dataX = DataFrame(data)\n",
    "            dataX = dataX.normalizeSignalsToUnity(referencePoint=None)\n",
    "            \n",
    "            ### pyiomica categorization\n",
    "            cf.calculateTimeSeriesCategorization(dataX, id, singleSubDir, NumberOfRandomSamples = 10**5,\n",
    "                                                 lowValuesToTag=0.0, lowValuesToTagWith=0.0)\n",
    "            cf.clusterTimeSeriesCategorization(id, singleSubDir,exportClusteringObjects=True,writeClusteringObjectToBinaries=True,\n",
    "                                               method='complete',metric='correlation',significance='Elbow')\n",
    "            cf.visualizeTimeSeriesCategorization(id, singleSubDir)\n",
    "            "
   ]
  },
  {
   "cell_type": "code",
   "execution_count": 11,
   "metadata": {},
   "outputs": [],
   "source": [
    "### do reactome enrichment for the single subject's categorized groups/subgroups\n",
    "\n",
    "### get the categorization results directory, read the excel files\n",
    "categorization_dir = singleSubDir + 'consolidatedGroupsSubgroups/'\n",
    "allfiles = [f for f in os.listdir(categorization_dir) if os.path.isfile(os.path.join(categorization_dir, f))]\n",
    "xlsxfiles = [f for f in allfiles if f.endswith('xlsx') ]"
   ]
  },
  {
   "cell_type": "code",
   "execution_count": null,
   "metadata": {},
   "outputs": [],
   "source": [
    "### reactome enrichment\n",
    "for subject in filter_subjects:\n",
    "    for f in xlsxfiles:\n",
    "        if f.startswith(subject):\n",
    "            filename = subject + '_' + f.split('_')[2]    ### the filename to save reactome enrichment result \n",
    "            data = pd.read_excel(categorization_dir + f, sheet_name=None)\n",
    "            gene_dict = {}\n",
    "            all_genes = set()\n",
    "            for key, value in data.items():\n",
    "                if value.shape[0] >= 4:\n",
    "                    gene_dict[key] = list(value['Index']) \n",
    "                    all_genes = all_genes.union(set(value['Index']))\n",
    "            if len(all_genes) != 0:\n",
    "                gene_dict['All'] = list(all_genes)\n",
    "            gene_dict_split = fs.splitGenes(gene_dict)            \n",
    "            ReactomeDataFrame = ReactomeAnalysis(gene_dict_split)\n",
    "            if len(ReactomeDataFrame) != 0:\n",
    "                ExportReactomeEnrichmentReport(ReactomeDataFrame, AppendString=filename,OutputDirectory=reactDir)  "
   ]
  },
  {
   "cell_type": "code",
   "execution_count": 13,
   "metadata": {},
   "outputs": [
    {
     "data": {
      "text/html": [
       "<div>\n",
       "<style scoped>\n",
       "    .dataframe tbody tr th:only-of-type {\n",
       "        vertical-align: middle;\n",
       "    }\n",
       "\n",
       "    .dataframe tbody tr th {\n",
       "        vertical-align: top;\n",
       "    }\n",
       "\n",
       "    .dataframe thead th {\n",
       "        text-align: right;\n",
       "    }\n",
       "</style>\n",
       "<table border=\"1\" class=\"dataframe\">\n",
       "  <thead>\n",
       "    <tr style=\"text-align: right;\">\n",
       "      <th></th>\n",
       "      <th>count</th>\n",
       "    </tr>\n",
       "    <tr>\n",
       "      <th>source</th>\n",
       "      <th></th>\n",
       "    </tr>\n",
       "  </thead>\n",
       "  <tbody>\n",
       "    <tr>\n",
       "      <th>RNAseq</th>\n",
       "      <td>713874</td>\n",
       "    </tr>\n",
       "    <tr>\n",
       "      <th>clinical</th>\n",
       "      <td>3221</td>\n",
       "    </tr>\n",
       "    <tr>\n",
       "      <th>cytokine</th>\n",
       "      <td>4554</td>\n",
       "    </tr>\n",
       "    <tr>\n",
       "      <th>gut</th>\n",
       "      <td>6336</td>\n",
       "    </tr>\n",
       "    <tr>\n",
       "      <th>nares</th>\n",
       "      <td>5440</td>\n",
       "    </tr>\n",
       "  </tbody>\n",
       "</table>\n",
       "</div>"
      ],
      "text/plain": [
       "           count\n",
       "source          \n",
       "RNAseq    713874\n",
       "clinical    3221\n",
       "cytokine    4554\n",
       "gut         6336\n",
       "nares       5440"
      ]
     },
     "execution_count": 13,
     "metadata": {},
     "output_type": "execute_result"
    }
   ],
   "source": [
    "### count the number of time series in each type of dataset\n",
    "All_omics[['name','source']] = All_omics['id'].str.split(pat='+',expand=True)\n",
    "omics_count = All_omics[['name','source']].groupby(['source'])['name'].count().reset_index(name=\"count\")\n",
    "omics_count = omics_count.set_index('source')\n",
    "omics_count"
   ]
  },
  {
   "cell_type": "code",
   "execution_count": 14,
   "metadata": {},
   "outputs": [
    {
     "name": "stderr",
     "output_type": "stream",
     "text": [
      "The PostScript backend does not support transparency; partially transparent artists will be rendered opaque.\n"
     ]
    },
    {
     "data": {
      "text/plain": [
       "<Figure size 576x576 with 0 Axes>"
      ]
     },
     "metadata": {},
     "output_type": "display_data"
    },
    {
     "data": {
      "image/png": "[encoded data removed]",
      "text/plain": [
       "<Figure size 432x288 with 1 Axes>"
      ]
     },
     "metadata": {},
     "output_type": "display_data"
    }
   ],
   "source": [
    "### plot the proportion of each type of omics as pie chart\n",
    "fig = plt.figure(figsize=(8,8))\n",
    "explode = (0, 0.2, 0.4, 0.6, 0.8)\n",
    "ax = omics_count.plot(kind='pie',y='count',labels=None, explode=explode)\n",
    "ax.set_ylabel('')\n",
    "ax.legend(labels=('RNA-seq','Clinical','Cytokine','Gut','Nares'))\n",
    "plt.savefig(resultDir + 'numberOfOmics.eps')"
   ]
  },
  {
   "cell_type": "code",
   "execution_count": 1,
   "metadata": {},
   "outputs": [],
   "source": [
    "# fig, ax = plt.subplots(figsize=(8,8))\n",
    "# binlist = list(range(200,1300,100))\n",
    "# plt.hist(time_range,bins=binlist,rwidth=1)\n",
    "# plt.ylabel('Number of individuals',fontsize=15)\n",
    "# plt.xlabel('Observation window (days)',fontsize=15)\n",
    "# plt.title('')\n",
    "# ax.grid(True)\n",
    "# plt.savefig(resultDir + 'timerange.eps')"
   ]
  },
  {
   "cell_type": "code",
   "execution_count": 39,
   "metadata": {},
   "outputs": [],
   "source": [
    "time_df = pd.DataFrame(columns = ['id', 'range'])\n",
    "time_df['id'] = filter_subjects\n",
    "time_df['range'] = time_range\n",
    "time_df[['SubjectID', 'Class']] = time_df['id'].str.split('_', expand=True)\n",
    "time_df = time_df[['SubjectID', 'range']]\n",
    "subinfofile = 'SubjectInfo.csv'\n",
    "subinfo = pd.read_csv(datadir+subinfofile)\n",
    "subinfo = subinfo[['SubjectID', 'Sex']]\n",
    "\n",
    "timeRange_df = pd.merge(time_df,subinfo,how=\"left\", on='SubjectID' )"
   ]
  },
  {
   "cell_type": "code",
   "execution_count": 43,
   "metadata": {},
   "outputs": [
    {
     "data": {
      "image/png": "[encoded data removed]",
      "text/plain": [
       "<Figure size 432x288 with 1 Axes>"
      ]
     },
     "metadata": {
      "needs_background": "light"
     },
     "output_type": "display_data"
    }
   ],
   "source": [
    "ax = sns.boxplot(x='Sex', y='range',showbox=False, data=timeRange_df)\n",
    "ax = sns.violinplot(x='Sex', y='range',data=timeRange_df)\n",
    "ax = sns.stripplot(y='range', x='Sex',\n",
    "                    data=timeRange_df,\n",
    "                    dodge = True,\n",
    "                    jitter=False,\n",
    "                    marker='o',\n",
    "                    alpha=1,\n",
    "                    edgecolor='black',\n",
    "                    linewidth = 1,\n",
    "                    color=\"white\")\n",
    "ax.set_xticklabels(['Female', 'Male'])\n",
    "ax.tick_params(axis='x', labelsize=15)\n",
    "ax.set_xlabel('',fontsize=15)\n",
    "ax.set_ylabel('Observation window (days)',fontsize=15)\n",
    "plt.savefig(resultDir + 'timerange.eps')"
   ]
  },
  {
   "cell_type": "code",
   "execution_count": 16,
   "metadata": {},
   "outputs": [],
   "source": [
    "# Collect all the pyiomica results omics into a single dictionary\n",
    "pyiomicaOut = {}\n",
    "# subjectSets = {}\n",
    "for subject in filter_subjects:\n",
    "    lag1F = categorization_dir+subject+'_LAG1_Autocorrelations_GroupsSubgroups.xlsx'\n",
    "    lag2F = categorization_dir+subject+'_LAG2_Autocorrelations_GroupsSubgroups.xlsx'\n",
    "    lag3F = categorization_dir+subject+'_LAG3_Autocorrelations_GroupsSubgroups.xlsx'\n",
    "    spikeMaxF =categorization_dir+subject+'_SpikeMax_Autocorrelations_GroupsSubgroups.xlsx'\n",
    "    spikeMinF = categorization_dir+subject+'_SpikeMax_Autocorrelations_GroupsSubgroups.xlsx'\n",
    "    if os.path.exists(lag1F):\n",
    "        pyiomicaOutTemp = pd.read_excel(lag1F, sheet_name=None,  usecols = \"A\", index_col=[0])\n",
    "        temp = []\n",
    "        for i in pyiomicaOutTemp:\n",
    "            temp.append(list(pyiomicaOutTemp[i].index))\n",
    "        pyiomicaOut[subject]= {'Lag1': ([item for sublist in temp for item in sublist])}\n",
    "    else:\n",
    "        pyiomicaOut[subject]= {'Lag1': ()}\n",
    "    if os.path.exists(lag2F):\n",
    "        pyiomicaOutTemp = pd.read_excel(lag2F, sheet_name=None,  usecols = \"A\", index_col=[0])\n",
    "        temp = []\n",
    "        for i in pyiomicaOutTemp:\n",
    "            temp.append(list(pyiomicaOutTemp[i].index))\n",
    "        pyiomicaOut[subject].update({'Lag2': ([item for sublist in temp for item in sublist])})\n",
    "    else:\n",
    "        pyiomicaOut[subject].update({'Lag2': ()})\n",
    "    if os.path.exists(lag3F):\n",
    "        pyiomicaOutTemp = pd.read_excel(lag3F, sheet_name=None,  usecols = \"A\", index_col=[0])\n",
    "        temp = []\n",
    "        for i in pyiomicaOutTemp:\n",
    "            temp.append(list(pyiomicaOutTemp[i].index))\n",
    "        pyiomicaOut[subject].update({'Lag3': ([item for sublist in temp for item in sublist])})\n",
    "    else:\n",
    "        pyiomicaOut[subject].update({'Lag3': ()})\n",
    "    if os.path.exists(spikeMaxF):\n",
    "        pyiomicaOutTemp = pd.read_excel(spikeMaxF, sheet_name=None,  usecols = \"A\", index_col=[0])\n",
    "        temp = []\n",
    "        for i in pyiomicaOutTemp:\n",
    "            temp.append(list(pyiomicaOutTemp[i].index))\n",
    "        pyiomicaOut[subject].update({'SpikeMax': ([item for sublist in temp for item in sublist])})\n",
    "    else:\n",
    "        pyiomicaOut[subject].update({'SpikeMax': ()})\n",
    "    if os.path.exists(spikeMinF):\n",
    "        pyiomicaOutTemp = pd.read_excel(spikeMinF, sheet_name=None,  usecols = \"A\", index_col=[0])\n",
    "        temp = []\n",
    "        for i in pyiomicaOutTemp:\n",
    "            temp.append(list(pyiomicaOutTemp[i].index))\n",
    "        pyiomicaOut[subject].update({'SpikeMin': ([item for sublist in temp for item in sublist])})\n",
    "    else:\n",
    "        pyiomicaOut[subject].update({'SpikeMin': ()})\n"
   ]
  },
  {
   "cell_type": "code",
   "execution_count": 17,
   "metadata": {},
   "outputs": [],
   "source": [
    "allValuesLag={'Lag1':[],'Lag2':[],'Lag3':[],'SpikeMax':[],'SpikeMin':[]}\n",
    "for subject in filter_subjects: \n",
    "    for lag in allValuesLag:\n",
    "        allValuesLag[lag].append(pyiomicaOut[subject][lag])\n",
    "\n",
    "allValuesLagFlat = {}\n",
    "allValuesLagFlatTally = {}\n",
    "for lag in allValuesLag:\n",
    "#Flatten the List\n",
    "    allValuesLagFlat[lag] = list(chain.from_iterable(allValuesLag[lag]))\n",
    "    allValuesLagFlatTally[lag] = {k: v for k, v in sorted(dict(Counter(allValuesLagFlat[lag])).items(), key=lambda item: item[1],reverse=True)}\n",
    "\n",
    "allValues = []\n",
    "for lag in allValuesLagFlat:\n",
    "    allValues.append(allValuesLagFlat[lag])\n",
    "allValuesFlat = list(chain.from_iterable(allValues))\n",
    "allValuesFlatTally = {k: v for k, v in sorted(dict(Counter(allValuesFlat)).items(), key=lambda item: item[1],reverse=True)}    "
   ]
  },
  {
   "cell_type": "code",
   "execution_count": null,
   "metadata": {},
   "outputs": [],
   "source": [
    "allValuesFlatTally"
   ]
  }
 ],
 "metadata": {
  "interpreter": {
   "hash": "2131b9abd04c922efe86e01a2c0d422f1e5ed68249c25d27807931bbfcca43f0"
  },
  "kernelspec": {
   "display_name": "Python 3 (ipykernel)",
   "language": "python",
   "name": "python3"
  },
  "language_info": {
   "codemirror_mode": {
    "name": "ipython",
    "version": 3
   },
   "file_extension": ".py",
   "mimetype": "text/x-python",
   "name": "python",
   "nbconvert_exporter": "python",
   "pygments_lexer": "ipython3",
   "version": "3.7.12"
  }
 },
 "nbformat": 4,
 "nbformat_minor": 4
}
